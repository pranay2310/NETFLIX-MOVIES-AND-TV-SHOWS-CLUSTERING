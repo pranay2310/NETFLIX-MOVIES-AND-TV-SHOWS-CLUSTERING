{
  "nbformat": 4,
  "nbformat_minor": 0,
  "metadata": {
    "colab": {
      "name": "NETFLIX MOVIES AND TV SHOWS CLUSTERING.ipynb",
      "provenance": [],
      "collapsed_sections": [],
      "include_colab_link": true
    },
    "kernelspec": {
      "name": "python3",
      "display_name": "Python 3"
    },
    "language_info": {
      "name": "python"
    }
  },
  "cells": [
    {
      "cell_type": "markdown",
      "metadata": {
        "id": "view-in-github",
        "colab_type": "text"
      },
      "source": [
        "<a href=\"https://colab.research.google.com/github/pranay2310/NETFLIX-MOVIES-AND-TV-SHOWS-CLUSTERING/blob/main/NETFLIX_MOVIES_AND_TV_SHOWS_CLUSTERING.ipynb\" target=\"_parent\"><img src=\"https://colab.research.google.com/assets/colab-badge.svg\" alt=\"Open In Colab\"/></a>"
      ]
    },
    {
      "cell_type": "markdown",
      "metadata": {
        "id": "LGcl5Bv9ed6u"
      },
      "source": [
        "# **Problem Statement**"
      ]
    },
    {
      "cell_type": "markdown",
      "metadata": {
        "id": "8M5kyFaVjzXk"
      },
      "source": [
        "This dataset consists of tv shows and movies available on Netflix as of 2019. The dataset is collected from Flixable which is a third-party Netflix search engine.\n",
        "\n",
        "In 2018, they released an interesting report which shows that the number of TV shows on Netflix has nearly tripled since 2010. The streaming service’s number of movies has decreased by more than 2,000 titles since 2010, while its number of TV shows has nearly tripled. It will be interesting to explore what all other insights can be obtained from the same dataset.\n",
        "\n",
        "Integrating this dataset with other external datasets such as IMDB ratings, rotten tomatoes can also provide many interesting findings."
      ]
    },
    {
      "cell_type": "markdown",
      "metadata": {
        "id": "tLx5cJO8hzb1"
      },
      "source": [
        "## <b>In this  project, you are required to do </b>\n",
        "1. Exploratory Data Analysis \n",
        "\n",
        "2. Understanding what type content is available in different countries\n",
        "\n",
        "3. Is Netflix has increasingly focusing on TV rather than movies in recent years.\n",
        "4. Clustering similar content by matching text-based features\n",
        "\n"
      ]
    },
    {
      "cell_type": "markdown",
      "metadata": {
        "id": "AzGDqdC4fZ-b"
      },
      "source": [
        "# **Attribute Information**"
      ]
    },
    {
      "cell_type": "markdown",
      "metadata": {
        "id": "jhfLYargscGV"
      },
      "source": [
        "1. show_id : Unique ID for every Movie / Tv Show\n",
        "\n",
        "2. type : Identifier - A Movie or TV Show\n",
        "\n",
        "3. title : Title of the Movie / Tv Show\n",
        "\n",
        "4. director : Director of the Movie\n",
        "\n",
        "5. cast : Actors involved in the movie / show\n",
        "\n",
        "6. country : Country where the movie / show was produced\n",
        "\n",
        "7. date_added : Date it was added on Netflix\n",
        "\n",
        "8. release_year : Actual Releaseyear of the movie / show\n",
        "\n",
        "9. rating : TV Rating of the movie / show\n",
        "\n",
        "10. duration : Total Duration - in minutes or number of seasons\n",
        "\n",
        "11. listed_in : Genere\n",
        "\n",
        "12. description: The Summary description"
      ]
    },
    {
      "cell_type": "code",
      "source": [
        "import numpy as np # linear algebra\n",
        "import pandas as pd # data processing\n",
        "import matplotlib.pyplot as plt\n",
        "import seaborn as sns\n"
      ],
      "metadata": {
        "id": "cSFn4OKZEFRs"
      },
      "execution_count": 17,
      "outputs": []
    },
    {
      "cell_type": "code",
      "source": [
        "from google.colab import drive\n",
        "drive.mount('/content/drive')"
      ],
      "metadata": {
        "colab": {
          "base_uri": "https://localhost:8080/"
        },
        "id": "GcftRrK7GIdj",
        "outputId": "1ad36239-6ae1-4fb7-cd99-14af7fcfb7f3"
      },
      "execution_count": 18,
      "outputs": [
        {
          "output_type": "stream",
          "name": "stdout",
          "text": [
            "Drive already mounted at /content/drive; to attempt to forcibly remount, call drive.mount(\"/content/drive\", force_remount=True).\n"
          ]
        }
      ]
    },
    {
      "cell_type": "code",
      "source": [
        "df = pd.read_csv('/content/drive/MyDrive/Almabetter/Capstone project/Netflix Movies and TV Shows Clustering/NETFLIX MOVIES AND TV SHOWS CLUSTERING.csv')"
      ],
      "metadata": {
        "id": "t_VxiRa2GXKO"
      },
      "execution_count": 19,
      "outputs": []
    },
    {
      "cell_type": "code",
      "source": [
        "df.sample(5)"
      ],
      "metadata": {
        "colab": {
          "base_uri": "https://localhost:8080/",
          "height": 337
        },
        "id": "BSJfpcfGGW7o",
        "outputId": "c55ef8c7-84f3-457e-bcef-2c012882bf8f"
      },
      "execution_count": 20,
      "outputs": [
        {
          "output_type": "execute_result",
          "data": {
            "text/plain": [
              "     show_id     type                   title                  director  \\\n",
              "2969   s2970    Movie    In Search of Fellini              Taron Lexton   \n",
              "856     s857  TV Show                  Betaal                       NaN   \n",
              "5538   s5539  TV Show        Shameless (U.S.)                       NaN   \n",
              "865     s866    Movie          Between Worlds              Maria Pulera   \n",
              "635     s636    Movie  Avengers: Infinity War  Anthony Russo, Joe Russo   \n",
              "\n",
              "                                                   cast        country  \\\n",
              "2969  Ksenia Solo, Mary Lynn Rajskub, Maria Bello, E...  United States   \n",
              "856   Viineet Kumar, Aahana Kumra, Suchitra Pillai, ...          India   \n",
              "5538  William H. Macy, Emmy Rossum, Justin Chatwin, ...  United States   \n",
              "865   Nicolas Cage, Franka Potente, Penelope Mitchel...          Spain   \n",
              "635   Robert Downey Jr., Josh Brolin, Mark Ruffalo, ...  United States   \n",
              "\n",
              "             date_added  release_year rating    duration  \\\n",
              "2969     March 19, 2018          2017      R     103 min   \n",
              "856        May 24, 2020          2020  TV-MA    1 Season   \n",
              "5538      July 26, 2020          2019  TV-MA  10 Seasons   \n",
              "865       April 6, 2019          2018      R      91 min   \n",
              "635   December 25, 2018          2018  PG-13     150 min   \n",
              "\n",
              "                                              listed_in  \\\n",
              "2969                         Action & Adventure, Dramas   \n",
              "856   International TV Shows, TV Action & Adventure,...   \n",
              "5538                             TV Comedies, TV Dramas   \n",
              "865                                           Thrillers   \n",
              "635                Action & Adventure, Sci-Fi & Fantasy   \n",
              "\n",
              "                                            description  \n",
              "2969  A naive and sheltered young woman embarks on a...  \n",
              "856   Hired to displace tribal villagers to make way...  \n",
              "5538  This dramedy based on a British series centers...  \n",
              "865   Grieving for his dead wife and daughter, a tru...  \n",
              "635   Superheroes amass to stop intergalactic sociop...  "
            ],
            "text/html": [
              "\n",
              "  <div id=\"df-62465be3-5b55-4e0c-b172-bacce748cfad\">\n",
              "    <div class=\"colab-df-container\">\n",
              "      <div>\n",
              "<style scoped>\n",
              "    .dataframe tbody tr th:only-of-type {\n",
              "        vertical-align: middle;\n",
              "    }\n",
              "\n",
              "    .dataframe tbody tr th {\n",
              "        vertical-align: top;\n",
              "    }\n",
              "\n",
              "    .dataframe thead th {\n",
              "        text-align: right;\n",
              "    }\n",
              "</style>\n",
              "<table border=\"1\" class=\"dataframe\">\n",
              "  <thead>\n",
              "    <tr style=\"text-align: right;\">\n",
              "      <th></th>\n",
              "      <th>show_id</th>\n",
              "      <th>type</th>\n",
              "      <th>title</th>\n",
              "      <th>director</th>\n",
              "      <th>cast</th>\n",
              "      <th>country</th>\n",
              "      <th>date_added</th>\n",
              "      <th>release_year</th>\n",
              "      <th>rating</th>\n",
              "      <th>duration</th>\n",
              "      <th>listed_in</th>\n",
              "      <th>description</th>\n",
              "    </tr>\n",
              "  </thead>\n",
              "  <tbody>\n",
              "    <tr>\n",
              "      <th>2969</th>\n",
              "      <td>s2970</td>\n",
              "      <td>Movie</td>\n",
              "      <td>In Search of Fellini</td>\n",
              "      <td>Taron Lexton</td>\n",
              "      <td>Ksenia Solo, Mary Lynn Rajskub, Maria Bello, E...</td>\n",
              "      <td>United States</td>\n",
              "      <td>March 19, 2018</td>\n",
              "      <td>2017</td>\n",
              "      <td>R</td>\n",
              "      <td>103 min</td>\n",
              "      <td>Action &amp; Adventure, Dramas</td>\n",
              "      <td>A naive and sheltered young woman embarks on a...</td>\n",
              "    </tr>\n",
              "    <tr>\n",
              "      <th>856</th>\n",
              "      <td>s857</td>\n",
              "      <td>TV Show</td>\n",
              "      <td>Betaal</td>\n",
              "      <td>NaN</td>\n",
              "      <td>Viineet Kumar, Aahana Kumra, Suchitra Pillai, ...</td>\n",
              "      <td>India</td>\n",
              "      <td>May 24, 2020</td>\n",
              "      <td>2020</td>\n",
              "      <td>TV-MA</td>\n",
              "      <td>1 Season</td>\n",
              "      <td>International TV Shows, TV Action &amp; Adventure,...</td>\n",
              "      <td>Hired to displace tribal villagers to make way...</td>\n",
              "    </tr>\n",
              "    <tr>\n",
              "      <th>5538</th>\n",
              "      <td>s5539</td>\n",
              "      <td>TV Show</td>\n",
              "      <td>Shameless (U.S.)</td>\n",
              "      <td>NaN</td>\n",
              "      <td>William H. Macy, Emmy Rossum, Justin Chatwin, ...</td>\n",
              "      <td>United States</td>\n",
              "      <td>July 26, 2020</td>\n",
              "      <td>2019</td>\n",
              "      <td>TV-MA</td>\n",
              "      <td>10 Seasons</td>\n",
              "      <td>TV Comedies, TV Dramas</td>\n",
              "      <td>This dramedy based on a British series centers...</td>\n",
              "    </tr>\n",
              "    <tr>\n",
              "      <th>865</th>\n",
              "      <td>s866</td>\n",
              "      <td>Movie</td>\n",
              "      <td>Between Worlds</td>\n",
              "      <td>Maria Pulera</td>\n",
              "      <td>Nicolas Cage, Franka Potente, Penelope Mitchel...</td>\n",
              "      <td>Spain</td>\n",
              "      <td>April 6, 2019</td>\n",
              "      <td>2018</td>\n",
              "      <td>R</td>\n",
              "      <td>91 min</td>\n",
              "      <td>Thrillers</td>\n",
              "      <td>Grieving for his dead wife and daughter, a tru...</td>\n",
              "    </tr>\n",
              "    <tr>\n",
              "      <th>635</th>\n",
              "      <td>s636</td>\n",
              "      <td>Movie</td>\n",
              "      <td>Avengers: Infinity War</td>\n",
              "      <td>Anthony Russo, Joe Russo</td>\n",
              "      <td>Robert Downey Jr., Josh Brolin, Mark Ruffalo, ...</td>\n",
              "      <td>United States</td>\n",
              "      <td>December 25, 2018</td>\n",
              "      <td>2018</td>\n",
              "      <td>PG-13</td>\n",
              "      <td>150 min</td>\n",
              "      <td>Action &amp; Adventure, Sci-Fi &amp; Fantasy</td>\n",
              "      <td>Superheroes amass to stop intergalactic sociop...</td>\n",
              "    </tr>\n",
              "  </tbody>\n",
              "</table>\n",
              "</div>\n",
              "      <button class=\"colab-df-convert\" onclick=\"convertToInteractive('df-62465be3-5b55-4e0c-b172-bacce748cfad')\"\n",
              "              title=\"Convert this dataframe to an interactive table.\"\n",
              "              style=\"display:none;\">\n",
              "        \n",
              "  <svg xmlns=\"http://www.w3.org/2000/svg\" height=\"24px\"viewBox=\"0 0 24 24\"\n",
              "       width=\"24px\">\n",
              "    <path d=\"M0 0h24v24H0V0z\" fill=\"none\"/>\n",
              "    <path d=\"M18.56 5.44l.94 2.06.94-2.06 2.06-.94-2.06-.94-.94-2.06-.94 2.06-2.06.94zm-11 1L8.5 8.5l.94-2.06 2.06-.94-2.06-.94L8.5 2.5l-.94 2.06-2.06.94zm10 10l.94 2.06.94-2.06 2.06-.94-2.06-.94-.94-2.06-.94 2.06-2.06.94z\"/><path d=\"M17.41 7.96l-1.37-1.37c-.4-.4-.92-.59-1.43-.59-.52 0-1.04.2-1.43.59L10.3 9.45l-7.72 7.72c-.78.78-.78 2.05 0 2.83L4 21.41c.39.39.9.59 1.41.59.51 0 1.02-.2 1.41-.59l7.78-7.78 2.81-2.81c.8-.78.8-2.07 0-2.86zM5.41 20L4 18.59l7.72-7.72 1.47 1.35L5.41 20z\"/>\n",
              "  </svg>\n",
              "      </button>\n",
              "      \n",
              "  <style>\n",
              "    .colab-df-container {\n",
              "      display:flex;\n",
              "      flex-wrap:wrap;\n",
              "      gap: 12px;\n",
              "    }\n",
              "\n",
              "    .colab-df-convert {\n",
              "      background-color: #E8F0FE;\n",
              "      border: none;\n",
              "      border-radius: 50%;\n",
              "      cursor: pointer;\n",
              "      display: none;\n",
              "      fill: #1967D2;\n",
              "      height: 32px;\n",
              "      padding: 0 0 0 0;\n",
              "      width: 32px;\n",
              "    }\n",
              "\n",
              "    .colab-df-convert:hover {\n",
              "      background-color: #E2EBFA;\n",
              "      box-shadow: 0px 1px 2px rgba(60, 64, 67, 0.3), 0px 1px 3px 1px rgba(60, 64, 67, 0.15);\n",
              "      fill: #174EA6;\n",
              "    }\n",
              "\n",
              "    [theme=dark] .colab-df-convert {\n",
              "      background-color: #3B4455;\n",
              "      fill: #D2E3FC;\n",
              "    }\n",
              "\n",
              "    [theme=dark] .colab-df-convert:hover {\n",
              "      background-color: #434B5C;\n",
              "      box-shadow: 0px 1px 3px 1px rgba(0, 0, 0, 0.15);\n",
              "      filter: drop-shadow(0px 1px 2px rgba(0, 0, 0, 0.3));\n",
              "      fill: #FFFFFF;\n",
              "    }\n",
              "  </style>\n",
              "\n",
              "      <script>\n",
              "        const buttonEl =\n",
              "          document.querySelector('#df-62465be3-5b55-4e0c-b172-bacce748cfad button.colab-df-convert');\n",
              "        buttonEl.style.display =\n",
              "          google.colab.kernel.accessAllowed ? 'block' : 'none';\n",
              "\n",
              "        async function convertToInteractive(key) {\n",
              "          const element = document.querySelector('#df-62465be3-5b55-4e0c-b172-bacce748cfad');\n",
              "          const dataTable =\n",
              "            await google.colab.kernel.invokeFunction('convertToInteractive',\n",
              "                                                     [key], {});\n",
              "          if (!dataTable) return;\n",
              "\n",
              "          const docLinkHtml = 'Like what you see? Visit the ' +\n",
              "            '<a target=\"_blank\" href=https://colab.research.google.com/notebooks/data_table.ipynb>data table notebook</a>'\n",
              "            + ' to learn more about interactive tables.';\n",
              "          element.innerHTML = '';\n",
              "          dataTable['output_type'] = 'display_data';\n",
              "          await google.colab.output.renderOutput(dataTable, element);\n",
              "          const docLink = document.createElement('div');\n",
              "          docLink.innerHTML = docLinkHtml;\n",
              "          element.appendChild(docLink);\n",
              "        }\n",
              "      </script>\n",
              "    </div>\n",
              "  </div>\n",
              "  "
            ]
          },
          "metadata": {},
          "execution_count": 20
        }
      ]
    },
    {
      "cell_type": "code",
      "source": [
        "df.shape"
      ],
      "metadata": {
        "colab": {
          "base_uri": "https://localhost:8080/"
        },
        "id": "8LbhBJFkHXep",
        "outputId": "7f30fe2a-e57f-40c4-e83e-8b621fd84fc2"
      },
      "execution_count": 21,
      "outputs": [
        {
          "output_type": "execute_result",
          "data": {
            "text/plain": [
              "(7787, 12)"
            ]
          },
          "metadata": {},
          "execution_count": 21
        }
      ]
    },
    {
      "cell_type": "code",
      "source": [
        "df.columns"
      ],
      "metadata": {
        "colab": {
          "base_uri": "https://localhost:8080/"
        },
        "id": "-G1eoMN4IXYt",
        "outputId": "073299cb-86fe-42a4-c9f6-af8ea0f51408"
      },
      "execution_count": 22,
      "outputs": [
        {
          "output_type": "execute_result",
          "data": {
            "text/plain": [
              "Index(['show_id', 'type', 'title', 'director', 'cast', 'country', 'date_added',\n",
              "       'release_year', 'rating', 'duration', 'listed_in', 'description'],\n",
              "      dtype='object')"
            ]
          },
          "metadata": {},
          "execution_count": 22
        }
      ]
    },
    {
      "cell_type": "code",
      "source": [
        "df.isnull().sum()"
      ],
      "metadata": {
        "colab": {
          "base_uri": "https://localhost:8080/"
        },
        "id": "g-5ekCpaIeXP",
        "outputId": "1988113e-1780-4db4-b997-81285c9bd62c"
      },
      "execution_count": 23,
      "outputs": [
        {
          "output_type": "execute_result",
          "data": {
            "text/plain": [
              "show_id            0\n",
              "type               0\n",
              "title              0\n",
              "director        2389\n",
              "cast             718\n",
              "country          507\n",
              "date_added        10\n",
              "release_year       0\n",
              "rating             7\n",
              "duration           0\n",
              "listed_in          0\n",
              "description        0\n",
              "dtype: int64"
            ]
          },
          "metadata": {},
          "execution_count": 23
        }
      ]
    },
    {
      "cell_type": "code",
      "source": [
        "sns.heatmap(df.isnull(), cbar=False)\n",
        "plt.title('Null Values Heatmap')\n",
        "plt.show()"
      ],
      "metadata": {
        "colab": {
          "base_uri": "https://localhost:8080/",
          "height": 335
        },
        "id": "Yt9DmqlxItfn",
        "outputId": "c163fce4-3a54-40ae-bb99-ace992e55cd6"
      },
      "execution_count": 24,
      "outputs": [
        {
          "output_type": "display_data",
          "data": {
            "text/plain": [
              "<Figure size 432x288 with 1 Axes>"
            ],
            "image/png": "[encoded data removed]"
          },
          "metadata": {
            "needs_background": "light"
          }
        }
      ]
    },
    {
      "cell_type": "code",
      "source": [
        "df.nunique()"
      ],
      "metadata": {
        "colab": {
          "base_uri": "https://localhost:8080/"
        },
        "id": "VL0R3jCmI23e",
        "outputId": "841ee66d-8d11-4dea-9c28-d6512b0cd6bd"
      },
      "execution_count": 13,
      "outputs": [
        {
          "output_type": "execute_result",
          "data": {
            "text/plain": [
              "show_id         7787\n",
              "type               2\n",
              "title           7787\n",
              "director        4049\n",
              "cast            6831\n",
              "country          681\n",
              "date_added      1565\n",
              "release_year      73\n",
              "rating            14\n",
              "duration         216\n",
              "listed_in        492\n",
              "description     7769\n",
              "dtype: int64"
            ]
          },
          "metadata": {},
          "execution_count": 13
        }
      ]
    },
    {
      "cell_type": "code",
      "source": [
        "df.duplicated().sum()"
      ],
      "metadata": {
        "colab": {
          "base_uri": "https://localhost:8080/"
        },
        "id": "pH9L1JN1I7Jv",
        "outputId": "6a5b5aa9-14f1-49b0-8698-73f630239960"
      },
      "execution_count": 25,
      "outputs": [
        {
          "output_type": "execute_result",
          "data": {
            "text/plain": [
              "0"
            ]
          },
          "metadata": {},
          "execution_count": 25
        }
      ]
    },
    {
      "cell_type": "code",
      "source": [
        "netflix = df.copy()"
      ],
      "metadata": {
        "id": "7oXA7iQsJD0G"
      },
      "execution_count": 26,
      "outputs": []
    },
    {
      "cell_type": "code",
      "source": [
        "df.info()"
      ],
      "metadata": {
        "colab": {
          "base_uri": "https://localhost:8080/"
        },
        "id": "Z6h-4TGjLMEK",
        "outputId": "14662945-a8ec-42b4-a3d6-8aeb6a6a736c"
      },
      "execution_count": 30,
      "outputs": [
        {
          "output_type": "stream",
          "name": "stdout",
          "text": [
            "<class 'pandas.core.frame.DataFrame'>\n",
            "Int64Index: 7770 entries, 0 to 7786\n",
            "Data columns (total 12 columns):\n",
            " #   Column        Non-Null Count  Dtype \n",
            "---  ------        --------------  ----- \n",
            " 0   show_id       7770 non-null   object\n",
            " 1   type          7770 non-null   object\n",
            " 2   title         7770 non-null   object\n",
            " 3   director      7770 non-null   object\n",
            " 4   cast          7770 non-null   object\n",
            " 5   country       7770 non-null   object\n",
            " 6   date_added    7770 non-null   object\n",
            " 7   release_year  7770 non-null   int64 \n",
            " 8   rating        7770 non-null   object\n",
            " 9   duration      7770 non-null   object\n",
            " 10  listed_in     7770 non-null   object\n",
            " 11  description   7770 non-null   object\n",
            "dtypes: int64(1), object(11)\n",
            "memory usage: 789.1+ KB\n"
          ]
        }
      ]
    },
    {
      "cell_type": "markdown",
      "source": [
        "##handling Missing and NULL values"
      ],
      "metadata": {
        "id": "1ug2BjQ4JVXi"
      }
    },
    {
      "cell_type": "code",
      "source": [
        "df.director.fillna(\"No Director\", inplace=True)\n",
        "df.cast.fillna(\"No Cast\", inplace=True)\n",
        "df.country.fillna(\"Country Unavailable\", inplace=True)\n",
        "df.dropna(subset=[\"date_added\", \"rating\"], inplace=True)"
      ],
      "metadata": {
        "id": "mWrueSwPJUa_"
      },
      "execution_count": 28,
      "outputs": []
    },
    {
      "cell_type": "markdown",
      "source": [
        "##Convert Date Time format"
      ],
      "metadata": {
        "id": "Cmz9tSy0Je9G"
      }
    },
    {
      "cell_type": "code",
      "source": [
        "df[\"date_added\"] = pd.to_datetime(df['date_added'])\n",
        "df['day_added'] = df['date_added'].dt.day\n",
        "df['year_added'] = df['date_added'].dt.year\n",
        "df['month_added']=df['date_added'].dt.month\n",
        "df['year_added'].astype(int);\n",
        "df['day_added'].astype(int);"
      ],
      "metadata": {
        "id": "QxmS2ximJh8e"
      },
      "execution_count": 31,
      "outputs": []
    }
  ]
}