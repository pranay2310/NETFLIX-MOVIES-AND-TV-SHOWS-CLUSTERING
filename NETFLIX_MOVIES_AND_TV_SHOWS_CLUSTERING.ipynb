{
  "nbformat": 4,
  "nbformat_minor": 0,
  "metadata": {
    "colab": {
      "name": "NETFLIX MOVIES AND TV SHOWS CLUSTERING.ipynb",
      "provenance": [],
      "collapsed_sections": [],
      "include_colab_link": true
    },
    "kernelspec": {
      "name": "python3",
      "display_name": "Python 3"
    },
    "language_info": {
      "name": "python"
    }
  },
  "cells": [
    {
      "cell_type": "markdown",
      "metadata": {
        "id": "view-in-github",
        "colab_type": "text"
      },
      "source": [
        "<a href=\"https://colab.research.google.com/github/pranay2310/NETFLIX-MOVIES-AND-TV-SHOWS-CLUSTERING/blob/main/NETFLIX_MOVIES_AND_TV_SHOWS_CLUSTERING.ipynb\" target=\"_parent\"><img src=\"https://colab.research.google.com/assets/colab-badge.svg\" alt=\"Open In Colab\"/></a>"
      ]
    },
    {
      "cell_type": "markdown",
      "metadata": {
        "id": "LGcl5Bv9ed6u"
      },
      "source": [
        "# **Problem Statement**"
      ]
    },
    {
      "cell_type": "markdown",
      "metadata": {
        "id": "8M5kyFaVjzXk"
      },
      "source": [
        "This dataset consists of tv shows and movies available on Netflix as of 2019. The dataset is collected from Flixable which is a third-party Netflix search engine.\n",
        "\n",
        "In 2018, they released an interesting report which shows that the number of TV shows on Netflix has nearly tripled since 2010. The streaming service’s number of movies has decreased by more than 2,000 titles since 2010, while its number of TV shows has nearly tripled. It will be interesting to explore what all other insights can be obtained from the same dataset.\n",
        "\n",
        "Integrating this dataset with other external datasets such as IMDB ratings, rotten tomatoes can also provide many interesting findings."
      ]
    },
    {
      "cell_type": "markdown",
      "metadata": {
        "id": "tLx5cJO8hzb1"
      },
      "source": [
        "## <b>In this  project, you are required to do </b>\n",
        "1. Exploratory Data Analysis \n",
        "\n",
        "2. Understanding what type content is available in different countries\n",
        "\n",
        "3. Is Netflix has increasingly focusing on TV rather than movies in recent years.\n",
        "4. Clustering similar content by matching text-based features\n",
        "\n"
      ]
    },
    {
      "cell_type": "markdown",
      "metadata": {
        "id": "AzGDqdC4fZ-b"
      },
      "source": [
        "# **Attribute Information**"
      ]
    },
    {
      "cell_type": "markdown",
      "metadata": {
        "id": "jhfLYargscGV"
      },
      "source": [
        "1. show_id : Unique ID for every Movie / Tv Show\n",
        "\n",
        "2. type : Identifier - A Movie or TV Show\n",
        "\n",
        "3. title : Title of the Movie / Tv Show\n",
        "\n",
        "4. director : Director of the Movie\n",
        "\n",
        "5. cast : Actors involved in the movie / show\n",
        "\n",
        "6. country : Country where the movie / show was produced\n",
        "\n",
        "7. date_added : Date it was added on Netflix\n",
        "\n",
        "8. release_year : Actual Releaseyear of the movie / show\n",
        "\n",
        "9. rating : TV Rating of the movie / show\n",
        "\n",
        "10. duration : Total Duration - in minutes or number of seasons\n",
        "\n",
        "11. listed_in : Genere\n",
        "\n",
        "12. description: The Summary description"
      ]
    },
    {
      "cell_type": "code",
      "source": [
        "import numpy as np # linear algebra\n",
        "import pandas as pd # data processing\n",
        "import matplotlib.pyplot as plt\n",
        "import seaborn as sns\n",
        "from wordcloud import WordCloud"
      ],
      "metadata": {
        "id": "cSFn4OKZEFRs"
      },
      "execution_count": 61,
      "outputs": []
    },
    {
      "cell_type": "code",
      "source": [
        "from google.colab import drive\n",
        "drive.mount('/content/drive')"
      ],
      "metadata": {
        "colab": {
          "base_uri": "https://localhost:8080/"
        },
        "id": "GcftRrK7GIdj",
        "outputId": "8393451e-c20e-4c28-852a-5bb8da554303"
      },
      "execution_count": 62,
      "outputs": [
        {
          "output_type": "stream",
          "name": "stdout",
          "text": [
            "Drive already mounted at /content/drive; to attempt to forcibly remount, call drive.mount(\"/content/drive\", force_remount=True).\n"
          ]
        }
      ]
    },
    {
      "cell_type": "code",
      "source": [
        "data = pd.read_csv('/content/drive/MyDrive/Almabetter/Capstone project/Netflix Movies and TV Shows Clustering/NETFLIX MOVIES AND TV SHOWS CLUSTERING.csv')"
      ],
      "metadata": {
        "id": "t_VxiRa2GXKO"
      },
      "execution_count": 63,
      "outputs": []
    },
    {
      "cell_type": "code",
      "source": [
        "data.sample(5)"
      ],
      "metadata": {
        "colab": {
          "base_uri": "https://localhost:8080/",
          "height": 337
        },
        "id": "BSJfpcfGGW7o",
        "outputId": "a069a336-9db8-4f81-d679-79366944a871"
      },
      "execution_count": 64,
      "outputs": [
        {
          "output_type": "execute_result",
          "data": {
            "text/plain": [
              "     show_id     type                                    title  \\\n",
              "5188   s5189    Movie                       Revolutionary Road   \n",
              "4892   s4893    Movie          Pocoyo Halloween: Spooky Movies   \n",
              "6339   s6340  TV Show  The Expanding Universe of Ashley Garcia   \n",
              "3792   s3793    Movie                                 LoveTrue   \n",
              "5077   s5078    Movie                          Raja Hindustani   \n",
              "\n",
              "              director                                               cast  \\\n",
              "5188        Sam Mendes  Leonardo DiCaprio, Kate Winslet, Kathy Bates, ...   \n",
              "4892               NaN                       Stephen Fry, Montana Smedley   \n",
              "6339               NaN                   Paulina Chávez, Jencarlos Canela   \n",
              "3792       Alma Har'el                                                NaN   \n",
              "5077  Dharmesh Darshan  Aamir Khan, Karisma Kapoor, Suresh Oberoi, Joh...   \n",
              "\n",
              "                            country        date_added  release_year rating  \\\n",
              "5188  United States, United Kingdom  November 1, 2019          2008      R   \n",
              "4892                            NaN       May 1, 2018          2014   TV-Y   \n",
              "6339                  United States  December 9, 2020          2020  TV-PG   \n",
              "3792                  United States       May 7, 2017          2016  TV-MA   \n",
              "5077                          India       May 1, 2017          1996  TV-14   \n",
              "\n",
              "       duration                                      listed_in  \\\n",
              "5188    120 min                        Dramas, Romantic Movies   \n",
              "4892     22 min                                         Movies   \n",
              "6339  3 Seasons           Kids' TV, TV Comedies, Teen TV Shows   \n",
              "3792     82 min                                  Documentaries   \n",
              "5077    177 min  Dramas, International Movies, Romantic Movies   \n",
              "\n",
              "                                            description  \n",
              "5188  April and Frank's marriage unravels when a pla...  \n",
              "4892  Pocoyo finds a special toy and plays new games...  \n",
              "6339  15-year-old scientist Ashley Garcia explores t...  \n",
              "3792  In this blend of documentary and dramatization...  \n",
              "5077  When a poor taxi driver falls in love with a w...  "
            ],
            "text/html": [
              "\n",
              "  <div id=\"df-08335d70-38de-489e-82d3-d743a4f08d18\">\n",
              "    <div class=\"colab-df-container\">\n",
              "      <div>\n",
              "<style scoped>\n",
              "    .dataframe tbody tr th:only-of-type {\n",
              "        vertical-align: middle;\n",
              "    }\n",
              "\n",
              "    .dataframe tbody tr th {\n",
              "        vertical-align: top;\n",
              "    }\n",
              "\n",
              "    .dataframe thead th {\n",
              "        text-align: right;\n",
              "    }\n",
              "</style>\n",
              "<table border=\"1\" class=\"dataframe\">\n",
              "  <thead>\n",
              "    <tr style=\"text-align: right;\">\n",
              "      <th></th>\n",
              "      <th>show_id</th>\n",
              "      <th>type</th>\n",
              "      <th>title</th>\n",
              "      <th>director</th>\n",
              "      <th>cast</th>\n",
              "      <th>country</th>\n",
              "      <th>date_added</th>\n",
              "      <th>release_year</th>\n",
              "      <th>rating</th>\n",
              "      <th>duration</th>\n",
              "      <th>listed_in</th>\n",
              "      <th>description</th>\n",
              "    </tr>\n",
              "  </thead>\n",
              "  <tbody>\n",
              "    <tr>\n",
              "      <th>5188</th>\n",
              "      <td>s5189</td>\n",
              "      <td>Movie</td>\n",
              "      <td>Revolutionary Road</td>\n",
              "      <td>Sam Mendes</td>\n",
              "      <td>Leonardo DiCaprio, Kate Winslet, Kathy Bates, ...</td>\n",
              "      <td>United States, United Kingdom</td>\n",
              "      <td>November 1, 2019</td>\n",
              "      <td>2008</td>\n",
              "      <td>R</td>\n",
              "      <td>120 min</td>\n",
              "      <td>Dramas, Romantic Movies</td>\n",
              "      <td>April and Frank's marriage unravels when a pla...</td>\n",
              "    </tr>\n",
              "    <tr>\n",
              "      <th>4892</th>\n",
              "      <td>s4893</td>\n",
              "      <td>Movie</td>\n",
              "      <td>Pocoyo Halloween: Spooky Movies</td>\n",
              "      <td>NaN</td>\n",
              "      <td>Stephen Fry, Montana Smedley</td>\n",
              "      <td>NaN</td>\n",
              "      <td>May 1, 2018</td>\n",
              "      <td>2014</td>\n",
              "      <td>TV-Y</td>\n",
              "      <td>22 min</td>\n",
              "      <td>Movies</td>\n",
              "      <td>Pocoyo finds a special toy and plays new games...</td>\n",
              "    </tr>\n",
              "    <tr>\n",
              "      <th>6339</th>\n",
              "      <td>s6340</td>\n",
              "      <td>TV Show</td>\n",
              "      <td>The Expanding Universe of Ashley Garcia</td>\n",
              "      <td>NaN</td>\n",
              "      <td>Paulina Chávez, Jencarlos Canela</td>\n",
              "      <td>United States</td>\n",
              "      <td>December 9, 2020</td>\n",
              "      <td>2020</td>\n",
              "      <td>TV-PG</td>\n",
              "      <td>3 Seasons</td>\n",
              "      <td>Kids' TV, TV Comedies, Teen TV Shows</td>\n",
              "      <td>15-year-old scientist Ashley Garcia explores t...</td>\n",
              "    </tr>\n",
              "    <tr>\n",
              "      <th>3792</th>\n",
              "      <td>s3793</td>\n",
              "      <td>Movie</td>\n",
              "      <td>LoveTrue</td>\n",
              "      <td>Alma Har'el</td>\n",
              "      <td>NaN</td>\n",
              "      <td>United States</td>\n",
              "      <td>May 7, 2017</td>\n",
              "      <td>2016</td>\n",
              "      <td>TV-MA</td>\n",
              "      <td>82 min</td>\n",
              "      <td>Documentaries</td>\n",
              "      <td>In this blend of documentary and dramatization...</td>\n",
              "    </tr>\n",
              "    <tr>\n",
              "      <th>5077</th>\n",
              "      <td>s5078</td>\n",
              "      <td>Movie</td>\n",
              "      <td>Raja Hindustani</td>\n",
              "      <td>Dharmesh Darshan</td>\n",
              "      <td>Aamir Khan, Karisma Kapoor, Suresh Oberoi, Joh...</td>\n",
              "      <td>India</td>\n",
              "      <td>May 1, 2017</td>\n",
              "      <td>1996</td>\n",
              "      <td>TV-14</td>\n",
              "      <td>177 min</td>\n",
              "      <td>Dramas, International Movies, Romantic Movies</td>\n",
              "      <td>When a poor taxi driver falls in love with a w...</td>\n",
              "    </tr>\n",
              "  </tbody>\n",
              "</table>\n",
              "</div>\n",
              "      <button class=\"colab-df-convert\" onclick=\"convertToInteractive('df-08335d70-38de-489e-82d3-d743a4f08d18')\"\n",
              "              title=\"Convert this dataframe to an interactive table.\"\n",
              "              style=\"display:none;\">\n",
              "        \n",
              "  <svg xmlns=\"http://www.w3.org/2000/svg\" height=\"24px\"viewBox=\"0 0 24 24\"\n",
              "       width=\"24px\">\n",
              "    <path d=\"M0 0h24v24H0V0z\" fill=\"none\"/>\n",
              "    <path d=\"M18.56 5.44l.94 2.06.94-2.06 2.06-.94-2.06-.94-.94-2.06-.94 2.06-2.06.94zm-11 1L8.5 8.5l.94-2.06 2.06-.94-2.06-.94L8.5 2.5l-.94 2.06-2.06.94zm10 10l.94 2.06.94-2.06 2.06-.94-2.06-.94-.94-2.06-.94 2.06-2.06.94z\"/><path d=\"M17.41 7.96l-1.37-1.37c-.4-.4-.92-.59-1.43-.59-.52 0-1.04.2-1.43.59L10.3 9.45l-7.72 7.72c-.78.78-.78 2.05 0 2.83L4 21.41c.39.39.9.59 1.41.59.51 0 1.02-.2 1.41-.59l7.78-7.78 2.81-2.81c.8-.78.8-2.07 0-2.86zM5.41 20L4 18.59l7.72-7.72 1.47 1.35L5.41 20z\"/>\n",
              "  </svg>\n",
              "      </button>\n",
              "      \n",
              "  <style>\n",
              "    .colab-df-container {\n",
              "      display:flex;\n",
              "      flex-wrap:wrap;\n",
              "      gap: 12px;\n",
              "    }\n",
              "\n",
              "    .colab-df-convert {\n",
              "      background-color: #E8F0FE;\n",
              "      border: none;\n",
              "      border-radius: 50%;\n",
              "      cursor: pointer;\n",
              "      display: none;\n",
              "      fill: #1967D2;\n",
              "      height: 32px;\n",
              "      padding: 0 0 0 0;\n",
              "      width: 32px;\n",
              "    }\n",
              "\n",
              "    .colab-df-convert:hover {\n",
              "      background-color: #E2EBFA;\n",
              "      box-shadow: 0px 1px 2px rgba(60, 64, 67, 0.3), 0px 1px 3px 1px rgba(60, 64, 67, 0.15);\n",
              "      fill: #174EA6;\n",
              "    }\n",
              "\n",
              "    [theme=dark] .colab-df-convert {\n",
              "      background-color: #3B4455;\n",
              "      fill: #D2E3FC;\n",
              "    }\n",
              "\n",
              "    [theme=dark] .colab-df-convert:hover {\n",
              "      background-color: #434B5C;\n",
              "      box-shadow: 0px 1px 3px 1px rgba(0, 0, 0, 0.15);\n",
              "      filter: drop-shadow(0px 1px 2px rgba(0, 0, 0, 0.3));\n",
              "      fill: #FFFFFF;\n",
              "    }\n",
              "  </style>\n",
              "\n",
              "      <script>\n",
              "        const buttonEl =\n",
              "          document.querySelector('#df-08335d70-38de-489e-82d3-d743a4f08d18 button.colab-df-convert');\n",
              "        buttonEl.style.display =\n",
              "          google.colab.kernel.accessAllowed ? 'block' : 'none';\n",
              "\n",
              "        async function convertToInteractive(key) {\n",
              "          const element = document.querySelector('#df-08335d70-38de-489e-82d3-d743a4f08d18');\n",
              "          const dataTable =\n",
              "            await google.colab.kernel.invokeFunction('convertToInteractive',\n",
              "                                                     [key], {});\n",
              "          if (!dataTable) return;\n",
              "\n",
              "          const docLinkHtml = 'Like what you see? Visit the ' +\n",
              "            '<a target=\"_blank\" href=https://colab.research.google.com/notebooks/data_table.ipynb>data table notebook</a>'\n",
              "            + ' to learn more about interactive tables.';\n",
              "          element.innerHTML = '';\n",
              "          dataTable['output_type'] = 'display_data';\n",
              "          await google.colab.output.renderOutput(dataTable, element);\n",
              "          const docLink = document.createElement('div');\n",
              "          docLink.innerHTML = docLinkHtml;\n",
              "          element.appendChild(docLink);\n",
              "        }\n",
              "      </script>\n",
              "    </div>\n",
              "  </div>\n",
              "  "
            ]
          },
          "metadata": {},
          "execution_count": 64
        }
      ]
    },
    {
      "cell_type": "code",
      "source": [
        "data.shape"
      ],
      "metadata": {
        "colab": {
          "base_uri": "https://localhost:8080/"
        },
        "id": "8LbhBJFkHXep",
        "outputId": "45b39f9e-9a1f-4044-c1b3-eb30bc04b47b"
      },
      "execution_count": 65,
      "outputs": [
        {
          "output_type": "execute_result",
          "data": {
            "text/plain": [
              "(7787, 12)"
            ]
          },
          "metadata": {},
          "execution_count": 65
        }
      ]
    },
    {
      "cell_type": "code",
      "source": [
        "data.columns"
      ],
      "metadata": {
        "colab": {
          "base_uri": "https://localhost:8080/"
        },
        "id": "-G1eoMN4IXYt",
        "outputId": "5c5f2b08-e11e-4fbb-d9fa-bd6e4889113f"
      },
      "execution_count": 66,
      "outputs": [
        {
          "output_type": "execute_result",
          "data": {
            "text/plain": [
              "Index(['show_id', 'type', 'title', 'director', 'cast', 'country', 'date_added',\n",
              "       'release_year', 'rating', 'duration', 'listed_in', 'description'],\n",
              "      dtype='object')"
            ]
          },
          "metadata": {},
          "execution_count": 66
        }
      ]
    },
    {
      "cell_type": "code",
      "source": [
        "data.isnull().sum()"
      ],
      "metadata": {
        "colab": {
          "base_uri": "https://localhost:8080/"
        },
        "id": "g-5ekCpaIeXP",
        "outputId": "a539a790-24fa-4c38-807c-31ff7c9b785c"
      },
      "execution_count": 67,
      "outputs": [
        {
          "output_type": "execute_result",
          "data": {
            "text/plain": [
              "show_id            0\n",
              "type               0\n",
              "title              0\n",
              "director        2389\n",
              "cast             718\n",
              "country          507\n",
              "date_added        10\n",
              "release_year       0\n",
              "rating             7\n",
              "duration           0\n",
              "listed_in          0\n",
              "description        0\n",
              "dtype: int64"
            ]
          },
          "metadata": {},
          "execution_count": 67
        }
      ]
    },
    {
      "cell_type": "code",
      "source": [
        "sns.heatmap(data.isnull(), cbar=False)\n",
        "plt.title('Null Values Heatmap')\n",
        "plt.show()"
      ],
      "metadata": {
        "colab": {
          "base_uri": "https://localhost:8080/",
          "height": 607
        },
        "id": "Yt9DmqlxItfn",
        "outputId": "fde4c3c1-cd72-4703-ebec-e4ba4bdf8b19"
      },
      "execution_count": 68,
      "outputs": [
        {
          "output_type": "display_data",
          "data": {
            "text/plain": [
              "<Figure size 648x648 with 1 Axes>"
            ],
            "image/png": "[encoded data removed]"
          },
          "metadata": {
            "needs_background": "light"
          }
        }
      ]
    },
    {
      "cell_type": "code",
      "source": [
        "data.nunique()"
      ],
      "metadata": {
        "colab": {
          "base_uri": "https://localhost:8080/"
        },
        "id": "VL0R3jCmI23e",
        "outputId": "536cfc0b-aac7-4205-8277-c69ff1dea7fb"
      },
      "execution_count": 69,
      "outputs": [
        {
          "output_type": "execute_result",
          "data": {
            "text/plain": [
              "show_id         7787\n",
              "type               2\n",
              "title           7787\n",
              "director        4049\n",
              "cast            6831\n",
              "country          681\n",
              "date_added      1565\n",
              "release_year      73\n",
              "rating            14\n",
              "duration         216\n",
              "listed_in        492\n",
              "description     7769\n",
              "dtype: int64"
            ]
          },
          "metadata": {},
          "execution_count": 69
        }
      ]
    },
    {
      "cell_type": "code",
      "source": [
        "data.duplicated().sum()"
      ],
      "metadata": {
        "colab": {
          "base_uri": "https://localhost:8080/"
        },
        "id": "pH9L1JN1I7Jv",
        "outputId": "3f48470a-dd61-48aa-88b6-254e13445663"
      },
      "execution_count": 70,
      "outputs": [
        {
          "output_type": "execute_result",
          "data": {
            "text/plain": [
              "0"
            ]
          },
          "metadata": {},
          "execution_count": 70
        }
      ]
    },
    {
      "cell_type": "code",
      "source": [
        "netflix = data.copy()"
      ],
      "metadata": {
        "id": "7oXA7iQsJD0G"
      },
      "execution_count": 71,
      "outputs": []
    },
    {
      "cell_type": "code",
      "source": [
        "data.info()"
      ],
      "metadata": {
        "colab": {
          "base_uri": "https://localhost:8080/"
        },
        "id": "Z6h-4TGjLMEK",
        "outputId": "46137362-949c-457f-887c-4af94b7fbe6b"
      },
      "execution_count": 72,
      "outputs": [
        {
          "output_type": "stream",
          "name": "stdout",
          "text": [
            "<class 'pandas.core.frame.DataFrame'>\n",
            "RangeIndex: 7787 entries, 0 to 7786\n",
            "Data columns (total 12 columns):\n",
            " #   Column        Non-Null Count  Dtype \n",
            "---  ------        --------------  ----- \n",
            " 0   show_id       7787 non-null   object\n",
            " 1   type          7787 non-null   object\n",
            " 2   title         7787 non-null   object\n",
            " 3   director      5398 non-null   object\n",
            " 4   cast          7069 non-null   object\n",
            " 5   country       7280 non-null   object\n",
            " 6   date_added    7777 non-null   object\n",
            " 7   release_year  7787 non-null   int64 \n",
            " 8   rating        7780 non-null   object\n",
            " 9   duration      7787 non-null   object\n",
            " 10  listed_in     7787 non-null   object\n",
            " 11  description   7787 non-null   object\n",
            "dtypes: int64(1), object(11)\n",
            "memory usage: 730.2+ KB\n"
          ]
        }
      ]
    },
    {
      "cell_type": "markdown",
      "source": [
        "##handling Missing and NULL values"
      ],
      "metadata": {
        "id": "1ug2BjQ4JVXi"
      }
    },
    {
      "cell_type": "markdown",
      "source": [
        "Null value treatment\n",
        "\n",
        "1. RATING - As rating column has 0.08% null values , so replacing nulls with mose frequent TV-MA rating.\n",
        "\n",
        "2. CAST - cast column has too many different values and more than 9% are missing, so there is no need to keep it but we are keeping it to perform EDA\n",
        "\n",
        "3. DATE - there are few missing values for date column. so, lets drop missing value rows.\n",
        "\n",
        "4. DIRECTOR - Director column has more then 30% null values so dropping that column\n",
        "\n",
        "5. Country - As Country columns has 6.51% null value, we dropping rows with missing value."
      ],
      "metadata": {
        "id": "wB7eyeJUONw5"
      }
    },
    {
      "cell_type": "code",
      "source": [
        "data= data.drop(columns= ['director'],axis=1)"
      ],
      "metadata": {
        "id": "xrH8a9O1OR6g"
      },
      "execution_count": 73,
      "outputs": []
    },
    {
      "cell_type": "code",
      "source": [
        "data['rating'].replace(np.nan, 'TV-MA',inplace  = True)\n",
        "\n",
        "data['cast'].replace(np.nan, 'missing info',inplace  = True)"
      ],
      "metadata": {
        "id": "qba4IMzJOR37"
      },
      "execution_count": 74,
      "outputs": []
    },
    {
      "cell_type": "code",
      "source": [
        "data = data.dropna(subset=[\"country\",\"date_added\"],axis=0) "
      ],
      "metadata": {
        "id": "gBYJgivvOR0L"
      },
      "execution_count": 75,
      "outputs": []
    },
    {
      "cell_type": "code",
      "source": [
        "data.isnull().sum()/data.shape[0]*100"
      ],
      "metadata": {
        "colab": {
          "base_uri": "https://localhost:8080/"
        },
        "id": "dTNs-OVmORr7",
        "outputId": "c680d75f-9b64-4979-b70c-ed0c00fe37b2"
      },
      "execution_count": 76,
      "outputs": [
        {
          "output_type": "execute_result",
          "data": {
            "text/plain": [
              "show_id         0.0\n",
              "type            0.0\n",
              "title           0.0\n",
              "cast            0.0\n",
              "country         0.0\n",
              "date_added      0.0\n",
              "release_year    0.0\n",
              "rating          0.0\n",
              "duration        0.0\n",
              "listed_in       0.0\n",
              "description     0.0\n",
              "dtype: float64"
            ]
          },
          "metadata": {},
          "execution_count": 76
        }
      ]
    },
    {
      "cell_type": "code",
      "source": [
        "data['country'].replace(np.nan, 'United States',inplace  = True)"
      ],
      "metadata": {
        "id": "kheAsax3Oemr"
      },
      "execution_count": 77,
      "outputs": []
    },
    {
      "cell_type": "markdown",
      "source": [
        "data shape after removing treating null value"
      ],
      "metadata": {
        "id": "88Y6NHwjOkVG"
      }
    },
    {
      "cell_type": "code",
      "source": [
        "print(f' After null value treatment \\n Number of observation : {data.shape[0]} \\n Number of Features: {data.shape[1]}')"
      ],
      "metadata": {
        "colab": {
          "base_uri": "https://localhost:8080/"
        },
        "id": "anHhSG4KOejj",
        "outputId": "cef763ee-25df-42fd-f083-091af3d32102"
      },
      "execution_count": 78,
      "outputs": [
        {
          "output_type": "stream",
          "name": "stdout",
          "text": [
            " After null value treatment \n",
            " Number of observation : 7271 \n",
            " Number of Features: 11\n"
          ]
        }
      ]
    },
    {
      "cell_type": "markdown",
      "source": [
        "Converting date format to more features (year, month, date of released)"
      ],
      "metadata": {
        "id": "jOJKxNoIOpd_"
      }
    },
    {
      "cell_type": "code",
      "source": [
        "data[\"date_added\"] = pd.to_datetime(data['date_added'])\n",
        "data['added_year'] = data['date_added'].dt.year\n",
        "data['added_month'] = data['date_added'].dt.strftime(\"%B\")"
      ],
      "metadata": {
        "id": "NIXLYFDIOegr"
      },
      "execution_count": 79,
      "outputs": []
    },
    {
      "cell_type": "markdown",
      "source": [
        "Convert datatype from string to int. "
      ],
      "metadata": {
        "id": "t7FErkvaO6Zt"
      }
    },
    {
      "cell_type": "code",
      "source": [
        "data['duration']=data['duration'].str.replace('Season','')\n",
        "data['duration']=data['duration'].str.replace('s','')\n",
        "data['duration']=data['duration'].str.replace('min','')\n",
        "\n",
        "data['duration']=data['duration'].astype(str).astype(int)\n",
        "data['duration']"
      ],
      "metadata": {
        "colab": {
          "base_uri": "https://localhost:8080/"
        },
        "id": "Z8Jd9TbVOedq",
        "outputId": "ffd07e33-dece-4ec0-cd01-f5ed79871c03"
      },
      "execution_count": 80,
      "outputs": [
        {
          "output_type": "execute_result",
          "data": {
            "text/plain": [
              "0         4\n",
              "1        93\n",
              "2        78\n",
              "3        80\n",
              "4       123\n",
              "       ... \n",
              "7781     88\n",
              "7782     99\n",
              "7783    111\n",
              "7785      1\n",
              "7786     90\n",
              "Name: duration, Length: 7271, dtype: int64"
            ]
          },
          "metadata": {},
          "execution_count": 80
        }
      ]
    },
    {
      "cell_type": "code",
      "source": [
        "data_copy = data.copy()"
      ],
      "metadata": {
        "id": "45AraSyCPB_L"
      },
      "execution_count": 81,
      "outputs": []
    },
    {
      "cell_type": "code",
      "source": [
        "data_copy = data_copy.rename(columns={\"listed_in\":\"genre\"})\n",
        "data_copy[\"genre\"] = data_copy[\"genre\"].apply(lambda x: x.split(\",\")[0])"
      ],
      "metadata": {
        "id": "Mq19dMWyPB8T"
      },
      "execution_count": 82,
      "outputs": []
    },
    {
      "cell_type": "code",
      "source": [
        "print(f'Total Number of unique genre: {data_copy.genre.value_counts().size}')\n",
        "\n"
      ],
      "metadata": {
        "colab": {
          "base_uri": "https://localhost:8080/"
        },
        "id": "7bOv5SpJPB5I",
        "outputId": "1e5bd7e1-bb6c-44dd-c245-987e3e843b62"
      },
      "execution_count": 83,
      "outputs": [
        {
          "output_type": "stream",
          "name": "stdout",
          "text": [
            "Total Number of unique genre: 36\n"
          ]
        }
      ]
    },
    {
      "cell_type": "code",
      "source": [
        "data_copy.head()"
      ],
      "metadata": {
        "colab": {
          "base_uri": "https://localhost:8080/",
          "height": 337
        },
        "id": "fw79kmFqPB2Q",
        "outputId": "744be46b-d5b7-4b13-973c-12fd70d0943b"
      },
      "execution_count": 84,
      "outputs": [
        {
          "output_type": "execute_result",
          "data": {
            "text/plain": [
              "  show_id     type  title                                               cast  \\\n",
              "0      s1  TV Show     3%  João Miguel, Bianca Comparato, Michel Gomes, R...   \n",
              "1      s2    Movie   7:19  Demián Bichir, Héctor Bonilla, Oscar Serrano, ...   \n",
              "2      s3    Movie  23:59  Tedd Chan, Stella Chung, Henley Hii, Lawrence ...   \n",
              "3      s4    Movie      9  Elijah Wood, John C. Reilly, Jennifer Connelly...   \n",
              "4      s5    Movie     21  Jim Sturgess, Kevin Spacey, Kate Bosworth, Aar...   \n",
              "\n",
              "         country date_added  release_year rating  duration  \\\n",
              "0         Brazil 2020-08-14          2020  TV-MA         4   \n",
              "1         Mexico 2016-12-23          2016  TV-MA        93   \n",
              "2      Singapore 2018-12-20          2011      R        78   \n",
              "3  United States 2017-11-16          2009  PG-13        80   \n",
              "4  United States 2020-01-01          2008  PG-13       123   \n",
              "\n",
              "                    genre                                        description  \\\n",
              "0  International TV Shows  In a future where the elite inhabit an island ...   \n",
              "1                  Dramas  After a devastating earthquake hits Mexico Cit...   \n",
              "2           Horror Movies  When an army recruit is found dead, his fellow...   \n",
              "3      Action & Adventure  In a postapocalyptic world, rag-doll robots hi...   \n",
              "4                  Dramas  A brilliant group of students become card-coun...   \n",
              "\n",
              "   added_year added_month  \n",
              "0        2020      August  \n",
              "1        2016    December  \n",
              "2        2018    December  \n",
              "3        2017    November  \n",
              "4        2020     January  "
            ],
            "text/html": [
              "\n",
              "  <div id=\"df-3009d632-4e17-4e13-a815-6c4a021a445b\">\n",
              "    <div class=\"colab-df-container\">\n",
              "      <div>\n",
              "<style scoped>\n",
              "    .dataframe tbody tr th:only-of-type {\n",
              "        vertical-align: middle;\n",
              "    }\n",
              "\n",
              "    .dataframe tbody tr th {\n",
              "        vertical-align: top;\n",
              "    }\n",
              "\n",
              "    .dataframe thead th {\n",
              "        text-align: right;\n",
              "    }\n",
              "</style>\n",
              "<table border=\"1\" class=\"dataframe\">\n",
              "  <thead>\n",
              "    <tr style=\"text-align: right;\">\n",
              "      <th></th>\n",
              "      <th>show_id</th>\n",
              "      <th>type</th>\n",
              "      <th>title</th>\n",
              "      <th>cast</th>\n",
              "      <th>country</th>\n",
              "      <th>date_added</th>\n",
              "      <th>release_year</th>\n",
              "      <th>rating</th>\n",
              "      <th>duration</th>\n",
              "      <th>genre</th>\n",
              "      <th>description</th>\n",
              "      <th>added_year</th>\n",
              "      <th>added_month</th>\n",
              "    </tr>\n",
              "  </thead>\n",
              "  <tbody>\n",
              "    <tr>\n",
              "      <th>0</th>\n",
              "      <td>s1</td>\n",
              "      <td>TV Show</td>\n",
              "      <td>3%</td>\n",
              "      <td>João Miguel, Bianca Comparato, Michel Gomes, R...</td>\n",
              "      <td>Brazil</td>\n",
              "      <td>2020-08-14</td>\n",
              "      <td>2020</td>\n",
              "      <td>TV-MA</td>\n",
              "      <td>4</td>\n",
              "      <td>International TV Shows</td>\n",
              "      <td>In a future where the elite inhabit an island ...</td>\n",
              "      <td>2020</td>\n",
              "      <td>August</td>\n",
              "    </tr>\n",
              "    <tr>\n",
              "      <th>1</th>\n",
              "      <td>s2</td>\n",
              "      <td>Movie</td>\n",
              "      <td>7:19</td>\n",
              "      <td>Demián Bichir, Héctor Bonilla, Oscar Serrano, ...</td>\n",
              "      <td>Mexico</td>\n",
              "      <td>2016-12-23</td>\n",
              "      <td>2016</td>\n",
              "      <td>TV-MA</td>\n",
              "      <td>93</td>\n",
              "      <td>Dramas</td>\n",
              "      <td>After a devastating earthquake hits Mexico Cit...</td>\n",
              "      <td>2016</td>\n",
              "      <td>December</td>\n",
              "    </tr>\n",
              "    <tr>\n",
              "      <th>2</th>\n",
              "      <td>s3</td>\n",
              "      <td>Movie</td>\n",
              "      <td>23:59</td>\n",
              "      <td>Tedd Chan, Stella Chung, Henley Hii, Lawrence ...</td>\n",
              "      <td>Singapore</td>\n",
              "      <td>2018-12-20</td>\n",
              "      <td>2011</td>\n",
              "      <td>R</td>\n",
              "      <td>78</td>\n",
              "      <td>Horror Movies</td>\n",
              "      <td>When an army recruit is found dead, his fellow...</td>\n",
              "      <td>2018</td>\n",
              "      <td>December</td>\n",
              "    </tr>\n",
              "    <tr>\n",
              "      <th>3</th>\n",
              "      <td>s4</td>\n",
              "      <td>Movie</td>\n",
              "      <td>9</td>\n",
              "      <td>Elijah Wood, John C. Reilly, Jennifer Connelly...</td>\n",
              "      <td>United States</td>\n",
              "      <td>2017-11-16</td>\n",
              "      <td>2009</td>\n",
              "      <td>PG-13</td>\n",
              "      <td>80</td>\n",
              "      <td>Action &amp; Adventure</td>\n",
              "      <td>In a postapocalyptic world, rag-doll robots hi...</td>\n",
              "      <td>2017</td>\n",
              "      <td>November</td>\n",
              "    </tr>\n",
              "    <tr>\n",
              "      <th>4</th>\n",
              "      <td>s5</td>\n",
              "      <td>Movie</td>\n",
              "      <td>21</td>\n",
              "      <td>Jim Sturgess, Kevin Spacey, Kate Bosworth, Aar...</td>\n",
              "      <td>United States</td>\n",
              "      <td>2020-01-01</td>\n",
              "      <td>2008</td>\n",
              "      <td>PG-13</td>\n",
              "      <td>123</td>\n",
              "      <td>Dramas</td>\n",
              "      <td>A brilliant group of students become card-coun...</td>\n",
              "      <td>2020</td>\n",
              "      <td>January</td>\n",
              "    </tr>\n",
              "  </tbody>\n",
              "</table>\n",
              "</div>\n",
              "      <button class=\"colab-df-convert\" onclick=\"convertToInteractive('df-3009d632-4e17-4e13-a815-6c4a021a445b')\"\n",
              "              title=\"Convert this dataframe to an interactive table.\"\n",
              "              style=\"display:none;\">\n",
              "        \n",
              "  <svg xmlns=\"http://www.w3.org/2000/svg\" height=\"24px\"viewBox=\"0 0 24 24\"\n",
              "       width=\"24px\">\n",
              "    <path d=\"M0 0h24v24H0V0z\" fill=\"none\"/>\n",
              "    <path d=\"M18.56 5.44l.94 2.06.94-2.06 2.06-.94-2.06-.94-.94-2.06-.94 2.06-2.06.94zm-11 1L8.5 8.5l.94-2.06 2.06-.94-2.06-.94L8.5 2.5l-.94 2.06-2.06.94zm10 10l.94 2.06.94-2.06 2.06-.94-2.06-.94-.94-2.06-.94 2.06-2.06.94z\"/><path d=\"M17.41 7.96l-1.37-1.37c-.4-.4-.92-.59-1.43-.59-.52 0-1.04.2-1.43.59L10.3 9.45l-7.72 7.72c-.78.78-.78 2.05 0 2.83L4 21.41c.39.39.9.59 1.41.59.51 0 1.02-.2 1.41-.59l7.78-7.78 2.81-2.81c.8-.78.8-2.07 0-2.86zM5.41 20L4 18.59l7.72-7.72 1.47 1.35L5.41 20z\"/>\n",
              "  </svg>\n",
              "      </button>\n",
              "      \n",
              "  <style>\n",
              "    .colab-df-container {\n",
              "      display:flex;\n",
              "      flex-wrap:wrap;\n",
              "      gap: 12px;\n",
              "    }\n",
              "\n",
              "    .colab-df-convert {\n",
              "      background-color: #E8F0FE;\n",
              "      border: none;\n",
              "      border-radius: 50%;\n",
              "      cursor: pointer;\n",
              "      display: none;\n",
              "      fill: #1967D2;\n",
              "      height: 32px;\n",
              "      padding: 0 0 0 0;\n",
              "      width: 32px;\n",
              "    }\n",
              "\n",
              "    .colab-df-convert:hover {\n",
              "      background-color: #E2EBFA;\n",
              "      box-shadow: 0px 1px 2px rgba(60, 64, 67, 0.3), 0px 1px 3px 1px rgba(60, 64, 67, 0.15);\n",
              "      fill: #174EA6;\n",
              "    }\n",
              "\n",
              "    [theme=dark] .colab-df-convert {\n",
              "      background-color: #3B4455;\n",
              "      fill: #D2E3FC;\n",
              "    }\n",
              "\n",
              "    [theme=dark] .colab-df-convert:hover {\n",
              "      background-color: #434B5C;\n",
              "      box-shadow: 0px 1px 3px 1px rgba(0, 0, 0, 0.15);\n",
              "      filter: drop-shadow(0px 1px 2px rgba(0, 0, 0, 0.3));\n",
              "      fill: #FFFFFF;\n",
              "    }\n",
              "  </style>\n",
              "\n",
              "      <script>\n",
              "        const buttonEl =\n",
              "          document.querySelector('#df-3009d632-4e17-4e13-a815-6c4a021a445b button.colab-df-convert');\n",
              "        buttonEl.style.display =\n",
              "          google.colab.kernel.accessAllowed ? 'block' : 'none';\n",
              "\n",
              "        async function convertToInteractive(key) {\n",
              "          const element = document.querySelector('#df-3009d632-4e17-4e13-a815-6c4a021a445b');\n",
              "          const dataTable =\n",
              "            await google.colab.kernel.invokeFunction('convertToInteractive',\n",
              "                                                     [key], {});\n",
              "          if (!dataTable) return;\n",
              "\n",
              "          const docLinkHtml = 'Like what you see? Visit the ' +\n",
              "            '<a target=\"_blank\" href=https://colab.research.google.com/notebooks/data_table.ipynb>data table notebook</a>'\n",
              "            + ' to learn more about interactive tables.';\n",
              "          element.innerHTML = '';\n",
              "          dataTable['output_type'] = 'display_data';\n",
              "          await google.colab.output.renderOutput(dataTable, element);\n",
              "          const docLink = document.createElement('div');\n",
              "          docLink.innerHTML = docLinkHtml;\n",
              "          element.appendChild(docLink);\n",
              "        }\n",
              "      </script>\n",
              "    </div>\n",
              "  </div>\n",
              "  "
            ]
          },
          "metadata": {},
          "execution_count": 84
        }
      ]
    },
    {
      "cell_type": "code",
      "source": [
        "data_copy.info()"
      ],
      "metadata": {
        "colab": {
          "base_uri": "https://localhost:8080/"
        },
        "id": "BPmlmi1gPBzU",
        "outputId": "446e97b8-bb7c-4ebc-b828-cff9083b28b0"
      },
      "execution_count": 85,
      "outputs": [
        {
          "output_type": "stream",
          "name": "stdout",
          "text": [
            "<class 'pandas.core.frame.DataFrame'>\n",
            "Int64Index: 7271 entries, 0 to 7786\n",
            "Data columns (total 13 columns):\n",
            " #   Column        Non-Null Count  Dtype         \n",
            "---  ------        --------------  -----         \n",
            " 0   show_id       7271 non-null   object        \n",
            " 1   type          7271 non-null   object        \n",
            " 2   title         7271 non-null   object        \n",
            " 3   cast          7271 non-null   object        \n",
            " 4   country       7271 non-null   object        \n",
            " 5   date_added    7271 non-null   datetime64[ns]\n",
            " 6   release_year  7271 non-null   int64         \n",
            " 7   rating        7271 non-null   object        \n",
            " 8   duration      7271 non-null   int64         \n",
            " 9   genre         7271 non-null   object        \n",
            " 10  description   7271 non-null   object        \n",
            " 11  added_year    7271 non-null   int64         \n",
            " 12  added_month   7271 non-null   object        \n",
            "dtypes: datetime64[ns](1), int64(3), object(9)\n",
            "memory usage: 795.3+ KB\n"
          ]
        }
      ]
    },
    {
      "cell_type": "code",
      "source": [
        "data_copy.describe(include=[\"O\"])"
      ],
      "metadata": {
        "colab": {
          "base_uri": "https://localhost:8080/",
          "height": 175
        },
        "id": "h0XhAoB5PBwd",
        "outputId": "02579f97-38ab-427a-e8af-82c5a9631a53"
      },
      "execution_count": 86,
      "outputs": [
        {
          "output_type": "execute_result",
          "data": {
            "text/plain": [
              "       show_id   type title          cast        country rating   genre  \\\n",
              "count     7271   7271  7271          7271           7271   7271    7271   \n",
              "unique    7271      2  7271          6469            681     14      36   \n",
              "top         s1  Movie    3%  missing info  United States  TV-MA  Dramas   \n",
              "freq         1   5147     1           622           2549   2708    1353   \n",
              "\n",
              "                                              description added_month  \n",
              "count                                                7271        7271  \n",
              "unique                                               7263          12  \n",
              "top     A scheming matriarch plots to cut off her disa...    December  \n",
              "freq                                                    2         774  "
            ],
            "text/html": [
              "\n",
              "  <div id=\"df-fd70fcec-502b-4b90-936b-aa3c56284c94\">\n",
              "    <div class=\"colab-df-container\">\n",
              "      <div>\n",
              "<style scoped>\n",
              "    .dataframe tbody tr th:only-of-type {\n",
              "        vertical-align: middle;\n",
              "    }\n",
              "\n",
              "    .dataframe tbody tr th {\n",
              "        vertical-align: top;\n",
              "    }\n",
              "\n",
              "    .dataframe thead th {\n",
              "        text-align: right;\n",
              "    }\n",
              "</style>\n",
              "<table border=\"1\" class=\"dataframe\">\n",
              "  <thead>\n",
              "    <tr style=\"text-align: right;\">\n",
              "      <th></th>\n",
              "      <th>show_id</th>\n",
              "      <th>type</th>\n",
              "      <th>title</th>\n",
              "      <th>cast</th>\n",
              "      <th>country</th>\n",
              "      <th>rating</th>\n",
              "      <th>genre</th>\n",
              "      <th>description</th>\n",
              "      <th>added_month</th>\n",
              "    </tr>\n",
              "  </thead>\n",
              "  <tbody>\n",
              "    <tr>\n",
              "      <th>count</th>\n",
              "      <td>7271</td>\n",
              "      <td>7271</td>\n",
              "      <td>7271</td>\n",
              "      <td>7271</td>\n",
              "      <td>7271</td>\n",
              "      <td>7271</td>\n",
              "      <td>7271</td>\n",
              "      <td>7271</td>\n",
              "      <td>7271</td>\n",
              "    </tr>\n",
              "    <tr>\n",
              "      <th>unique</th>\n",
              "      <td>7271</td>\n",
              "      <td>2</td>\n",
              "      <td>7271</td>\n",
              "      <td>6469</td>\n",
              "      <td>681</td>\n",
              "      <td>14</td>\n",
              "      <td>36</td>\n",
              "      <td>7263</td>\n",
              "      <td>12</td>\n",
              "    </tr>\n",
              "    <tr>\n",
              "      <th>top</th>\n",
              "      <td>s1</td>\n",
              "      <td>Movie</td>\n",
              "      <td>3%</td>\n",
              "      <td>missing info</td>\n",
              "      <td>United States</td>\n",
              "      <td>TV-MA</td>\n",
              "      <td>Dramas</td>\n",
              "      <td>A scheming matriarch plots to cut off her disa...</td>\n",
              "      <td>December</td>\n",
              "    </tr>\n",
              "    <tr>\n",
              "      <th>freq</th>\n",
              "      <td>1</td>\n",
              "      <td>5147</td>\n",
              "      <td>1</td>\n",
              "      <td>622</td>\n",
              "      <td>2549</td>\n",
              "      <td>2708</td>\n",
              "      <td>1353</td>\n",
              "      <td>2</td>\n",
              "      <td>774</td>\n",
              "    </tr>\n",
              "  </tbody>\n",
              "</table>\n",
              "</div>\n",
              "      <button class=\"colab-df-convert\" onclick=\"convertToInteractive('df-fd70fcec-502b-4b90-936b-aa3c56284c94')\"\n",
              "              title=\"Convert this dataframe to an interactive table.\"\n",
              "              style=\"display:none;\">\n",
              "        \n",
              "  <svg xmlns=\"http://www.w3.org/2000/svg\" height=\"24px\"viewBox=\"0 0 24 24\"\n",
              "       width=\"24px\">\n",
              "    <path d=\"M0 0h24v24H0V0z\" fill=\"none\"/>\n",
              "    <path d=\"M18.56 5.44l.94 2.06.94-2.06 2.06-.94-2.06-.94-.94-2.06-.94 2.06-2.06.94zm-11 1L8.5 8.5l.94-2.06 2.06-.94-2.06-.94L8.5 2.5l-.94 2.06-2.06.94zm10 10l.94 2.06.94-2.06 2.06-.94-2.06-.94-.94-2.06-.94 2.06-2.06.94z\"/><path d=\"M17.41 7.96l-1.37-1.37c-.4-.4-.92-.59-1.43-.59-.52 0-1.04.2-1.43.59L10.3 9.45l-7.72 7.72c-.78.78-.78 2.05 0 2.83L4 21.41c.39.39.9.59 1.41.59.51 0 1.02-.2 1.41-.59l7.78-7.78 2.81-2.81c.8-.78.8-2.07 0-2.86zM5.41 20L4 18.59l7.72-7.72 1.47 1.35L5.41 20z\"/>\n",
              "  </svg>\n",
              "      </button>\n",
              "      \n",
              "  <style>\n",
              "    .colab-df-container {\n",
              "      display:flex;\n",
              "      flex-wrap:wrap;\n",
              "      gap: 12px;\n",
              "    }\n",
              "\n",
              "    .colab-df-convert {\n",
              "      background-color: #E8F0FE;\n",
              "      border: none;\n",
              "      border-radius: 50%;\n",
              "      cursor: pointer;\n",
              "      display: none;\n",
              "      fill: #1967D2;\n",
              "      height: 32px;\n",
              "      padding: 0 0 0 0;\n",
              "      width: 32px;\n",
              "    }\n",
              "\n",
              "    .colab-df-convert:hover {\n",
              "      background-color: #E2EBFA;\n",
              "      box-shadow: 0px 1px 2px rgba(60, 64, 67, 0.3), 0px 1px 3px 1px rgba(60, 64, 67, 0.15);\n",
              "      fill: #174EA6;\n",
              "    }\n",
              "\n",
              "    [theme=dark] .colab-df-convert {\n",
              "      background-color: #3B4455;\n",
              "      fill: #D2E3FC;\n",
              "    }\n",
              "\n",
              "    [theme=dark] .colab-df-convert:hover {\n",
              "      background-color: #434B5C;\n",
              "      box-shadow: 0px 1px 3px 1px rgba(0, 0, 0, 0.15);\n",
              "      filter: drop-shadow(0px 1px 2px rgba(0, 0, 0, 0.3));\n",
              "      fill: #FFFFFF;\n",
              "    }\n",
              "  </style>\n",
              "\n",
              "      <script>\n",
              "        const buttonEl =\n",
              "          document.querySelector('#df-fd70fcec-502b-4b90-936b-aa3c56284c94 button.colab-df-convert');\n",
              "        buttonEl.style.display =\n",
              "          google.colab.kernel.accessAllowed ? 'block' : 'none';\n",
              "\n",
              "        async function convertToInteractive(key) {\n",
              "          const element = document.querySelector('#df-fd70fcec-502b-4b90-936b-aa3c56284c94');\n",
              "          const dataTable =\n",
              "            await google.colab.kernel.invokeFunction('convertToInteractive',\n",
              "                                                     [key], {});\n",
              "          if (!dataTable) return;\n",
              "\n",
              "          const docLinkHtml = 'Like what you see? Visit the ' +\n",
              "            '<a target=\"_blank\" href=https://colab.research.google.com/notebooks/data_table.ipynb>data table notebook</a>'\n",
              "            + ' to learn more about interactive tables.';\n",
              "          element.innerHTML = '';\n",
              "          dataTable['output_type'] = 'display_data';\n",
              "          await google.colab.output.renderOutput(dataTable, element);\n",
              "          const docLink = document.createElement('div');\n",
              "          docLink.innerHTML = docLinkHtml;\n",
              "          element.appendChild(docLink);\n",
              "        }\n",
              "      </script>\n",
              "    </div>\n",
              "  </div>\n",
              "  "
            ]
          },
          "metadata": {},
          "execution_count": 86
        }
      ]
    },
    {
      "cell_type": "markdown",
      "source": [
        "#EDA"
      ],
      "metadata": {
        "id": "Jh0ELZ4ATbxZ"
      }
    },
    {
      "cell_type": "markdown",
      "source": [
        "##univariant analysis"
      ],
      "metadata": {
        "id": "qbDBhUeyTf_a"
      }
    },
    {
      "cell_type": "code",
      "source": [
        "#size of graph\n",
        "plt.rcParams[\"figure.figsize\"] = [10,6]"
      ],
      "metadata": {
        "id": "Ejoh0DgyPVbD"
      },
      "execution_count": 88,
      "outputs": []
    },
    {
      "cell_type": "markdown",
      "source": [
        "### coloumn 1: show id"
      ],
      "metadata": {
        "id": "ikuA7f2FTlom"
      }
    },
    {
      "cell_type": "code",
      "source": [
        "# is show id is unique for every entry?\n",
        "data_copy[\"show_id\"].nunique()"
      ],
      "metadata": {
        "colab": {
          "base_uri": "https://localhost:8080/"
        },
        "id": "QwBM-v6YPVYA",
        "outputId": "38f4aa5f-9bf8-42ec-f18e-273c5ae2041a"
      },
      "execution_count": 89,
      "outputs": [
        {
          "output_type": "execute_result",
          "data": {
            "text/plain": [
              "7271"
            ]
          },
          "metadata": {},
          "execution_count": 89
        }
      ]
    },
    {
      "cell_type": "markdown",
      "source": [
        "Show_id is unique for every observation"
      ],
      "metadata": {
        "id": "0BfNa5kUTqHe"
      }
    },
    {
      "cell_type": "markdown",
      "source": [
        "### column 2: type : Identifier - A Movie or TV Show"
      ],
      "metadata": {
        "id": "qL7hlGEyTuqm"
      }
    },
    {
      "cell_type": "code",
      "source": [
        "data_copy[\"type\"].unique()"
      ],
      "metadata": {
        "colab": {
          "base_uri": "https://localhost:8080/"
        },
        "id": "yb9bSNZ0PVVU",
        "outputId": "f1a4a33c-a2dd-48eb-db45-ecf0302b6c9a"
      },
      "execution_count": 91,
      "outputs": [
        {
          "output_type": "execute_result",
          "data": {
            "text/plain": [
              "array(['TV Show', 'Movie'], dtype=object)"
            ]
          },
          "metadata": {},
          "execution_count": 91
        }
      ]
    },
    {
      "cell_type": "code",
      "source": [
        "#\n",
        "plt.pie(data_copy[\"type\"].value_counts(),labels=data_copy[\"type\"].unique(),\n",
        "        shadow=True,\n",
        "        autopct='%1.2f%%',\n",
        "        explode=(0.1, 0.0))\n",
        "plt.title(\"Number of movies/TV show added on NETFLIX  \")\n",
        "plt.show()"
      ],
      "metadata": {
        "colab": {
          "base_uri": "https://localhost:8080/",
          "height": 372
        },
        "id": "6j00RoSpPVSQ",
        "outputId": "4fda15f4-aa6a-4817-d850-8b8cc37a8b08"
      },
      "execution_count": 92,
      "outputs": [
        {
          "output_type": "display_data",
          "data": {
            "text/plain": [
              "<Figure size 720x432 with 1 Axes>"
            ],
            "image/png": "[encoded data removed]"
          },
          "metadata": {}
        }
      ]
    },
    {
      "cell_type": "markdown",
      "source": [
        "### column 3: title : Title of the Movie / Tv Show"
      ],
      "metadata": {
        "id": "75WV0K0VT2K1"
      }
    },
    {
      "cell_type": "code",
      "source": [
        "# is title is unique for every entry?\n",
        "print(f' unique title: {data_copy[\"title\"].nunique()}')"
      ],
      "metadata": {
        "colab": {
          "base_uri": "https://localhost:8080/"
        },
        "id": "KdjJwOACPVPT",
        "outputId": "af5fa8e8-b1bd-491a-bba5-3d81ccd7fd15"
      },
      "execution_count": 93,
      "outputs": [
        {
          "output_type": "stream",
          "name": "stdout",
          "text": [
            " unique title: 7271\n"
          ]
        }
      ]
    },
    {
      "cell_type": "markdown",
      "source": [
        "All title are unique"
      ],
      "metadata": {
        "id": "7JdYDZYzT6gN"
      }
    },
    {
      "cell_type": "markdown",
      "source": [
        "### coloums 5: cast : Actors involved in the movie / show"
      ],
      "metadata": {
        "id": "xDIuMXy5T9TE"
      }
    },
    {
      "cell_type": "code",
      "source": [
        "data_copy['cast_name'] = data_copy['cast'].apply(lambda x :  x.split(',')) \n",
        "cast_count = []\n",
        "for i in data_copy['cast_name']: cast_count += i\n",
        "    \n",
        "cast_dict = dict((i, cast_count.count(i)) for i in cast_count)\n",
        "\n",
        "df_cast_count = pd.DataFrame(cast_dict.values(),cast_dict.keys()).reset_index().sort_values(0,ascending=False).rename(\n",
        "    columns = {'index' : 'cast_name', 0 : 'count'}).iloc[1:21]\n",
        "plt.figure(figsize=(15,5))\n",
        "sns.barplot(x='cast_name',y='count',data=df_cast_count,palette=\"Dark2_r\")\n",
        "plt.title(\"Top-20 ACTORS on Netflix\",size='16',fontweight=\"bold\")\n",
        "plt.xticks(rotation=90)\n",
        "plt.show()"
      ],
      "metadata": {
        "colab": {
          "base_uri": "https://localhost:8080/",
          "height": 442
        },
        "id": "VCJfAb4CPVMc",
        "outputId": "d873cc62-40a6-4439-e704-1a2b0b9c3334"
      },
      "execution_count": 94,
      "outputs": [
        {
          "output_type": "display_data",
          "data": {
            "text/plain": [
              "<Figure size 1080x360 with 1 Axes>"
            ],
            "image/png": "[encoded data removed]"
          },
          "metadata": {
            "needs_background": "light"
          }
        }
      ]
    },
    {
      "cell_type": "markdown",
      "source": [
        "### coloums 6: country : Country where the movie / show was produced"
      ],
      "metadata": {
        "id": "fuzsEzgEbtcf"
      }
    },
    {
      "cell_type": "code",
      "source": [
        "#top 15 country where the movie/shows was produced\n",
        "data_copy[\"country\"].value_counts()[:15].sort_values(ascending=False).plot(kind=\"bar\")\n",
        "plt.title(\"Top 15 Country where the movie / show was produced\")\n",
        "plt.xlabel(\"Country\")\n",
        "plt.ylabel(\"Count\")\n",
        "plt.show()"
      ],
      "metadata": {
        "colab": {
          "base_uri": "https://localhost:8080/",
          "height": 473
        },
        "id": "-_1IeJz2Oeas",
        "outputId": "414a9ce7-3162-46ef-dfa2-44957e6ca18f"
      },
      "execution_count": 95,
      "outputs": [
        {
          "output_type": "display_data",
          "data": {
            "text/plain": [
              "<Figure size 720x432 with 1 Axes>"
            ],
            "image/png": "[encoded data removed]"
          },
          "metadata": {
            "needs_background": "light"
          }
        }
      ]
    },
    {
      "cell_type": "code",
      "source": [
        ""
      ],
      "metadata": {
        "id": "jy79UDVPUGVv"
      },
      "execution_count": null,
      "outputs": []
    },
    {
      "cell_type": "code",
      "source": [
        ""
      ],
      "metadata": {
        "id": "-t_TVP0tUGSA"
      },
      "execution_count": null,
      "outputs": []
    },
    {
      "cell_type": "code",
      "source": [
        ""
      ],
      "metadata": {
        "id": "HHnjC1QAUGO4"
      },
      "execution_count": null,
      "outputs": []
    },
    {
      "cell_type": "code",
      "source": [
        ""
      ],
      "metadata": {
        "id": "vG1JQGkAUGLt"
      },
      "execution_count": null,
      "outputs": []
    },
    {
      "cell_type": "code",
      "source": [
        ""
      ],
      "metadata": {
        "id": "H8XAd2toUGIw"
      },
      "execution_count": null,
      "outputs": []
    },
    {
      "cell_type": "code",
      "source": [
        ""
      ],
      "metadata": {
        "id": "7hJicup4UGFw"
      },
      "execution_count": null,
      "outputs": []
    },
    {
      "cell_type": "code",
      "source": [
        ""
      ],
      "metadata": {
        "id": "NJAiqZBZUGCj"
      },
      "execution_count": null,
      "outputs": []
    },
    {
      "cell_type": "code",
      "source": [
        ""
      ],
      "metadata": {
        "id": "tb32Ux9EUF_g"
      },
      "execution_count": null,
      "outputs": []
    },
    {
      "cell_type": "code",
      "source": [
        ""
      ],
      "metadata": {
        "id": "lmm1PAUhUF8Z"
      },
      "execution_count": null,
      "outputs": []
    },
    {
      "cell_type": "code",
      "source": [
        ""
      ],
      "metadata": {
        "id": "vHlHqVbPUF5K"
      },
      "execution_count": null,
      "outputs": []
    },
    {
      "cell_type": "markdown",
      "source": [
        ""
      ],
      "metadata": {
        "id": "t-TZMDcXUFtd"
      }
    },
    {
      "cell_type": "markdown",
      "source": [
        ""
      ],
      "metadata": {
        "id": "4e-bBXLYUFqU"
      }
    },
    {
      "cell_type": "code",
      "source": [
        ""
      ],
      "metadata": {
        "id": "8kT1q4JQOeXV"
      },
      "execution_count": 86,
      "outputs": []
    },
    {
      "cell_type": "code",
      "source": [
        "data.director.fillna(\"No Director\", inplace=True)\n",
        "data.cast.fillna(\"No Cast\", inplace=True)\n",
        "data.country.fillna(\"Country Unavailable\", inplace=True)\n",
        "data.dropna(subset=[\"date_added\", \"rating\"], inplace=True)"
      ],
      "metadata": {
        "id": "mWrueSwPJUa_",
        "colab": {
          "base_uri": "https://localhost:8080/",
          "height": 338
        },
        "outputId": "6aa2a758-758e-4e28-c63c-83a64c69595b"
      },
      "execution_count": 87,
      "outputs": [
        {
          "output_type": "error",
          "ename": "AttributeError",
          "evalue": "ignored",
          "traceback": [
            "\u001b[0;31m---------------------------------------------------------------------------\u001b[0m",
            "\u001b[0;31mAttributeError\u001b[0m                            Traceback (most recent call last)",
            "\u001b[0;32m<ipython-input-87-76e4e494653a>\u001b[0m in \u001b[0;36m<module>\u001b[0;34m()\u001b[0m\n\u001b[0;32m----> 1\u001b[0;31m \u001b[0mdata\u001b[0m\u001b[0;34m.\u001b[0m\u001b[0mdirector\u001b[0m\u001b[0;34m.\u001b[0m\u001b[0mfillna\u001b[0m\u001b[0;34m(\u001b[0m\u001b[0;34m\"No Director\"\u001b[0m\u001b[0;34m,\u001b[0m \u001b[0minplace\u001b[0m\u001b[0;34m=\u001b[0m\u001b[0;32mTrue\u001b[0m\u001b[0;34m)\u001b[0m\u001b[0;34m\u001b[0m\u001b[0;34m\u001b[0m\u001b[0m\n\u001b[0m\u001b[1;32m      2\u001b[0m \u001b[0mdata\u001b[0m\u001b[0;34m.\u001b[0m\u001b[0mcast\u001b[0m\u001b[0;34m.\u001b[0m\u001b[0mfillna\u001b[0m\u001b[0;34m(\u001b[0m\u001b[0;34m\"No Cast\"\u001b[0m\u001b[0;34m,\u001b[0m \u001b[0minplace\u001b[0m\u001b[0;34m=\u001b[0m\u001b[0;32mTrue\u001b[0m\u001b[0;34m)\u001b[0m\u001b[0;34m\u001b[0m\u001b[0;34m\u001b[0m\u001b[0m\n\u001b[1;32m      3\u001b[0m \u001b[0mdata\u001b[0m\u001b[0;34m.\u001b[0m\u001b[0mcountry\u001b[0m\u001b[0;34m.\u001b[0m\u001b[0mfillna\u001b[0m\u001b[0;34m(\u001b[0m\u001b[0;34m\"Country Unavailable\"\u001b[0m\u001b[0;34m,\u001b[0m \u001b[0minplace\u001b[0m\u001b[0;34m=\u001b[0m\u001b[0;32mTrue\u001b[0m\u001b[0;34m)\u001b[0m\u001b[0;34m\u001b[0m\u001b[0;34m\u001b[0m\u001b[0m\n\u001b[1;32m      4\u001b[0m \u001b[0mdata\u001b[0m\u001b[0;34m.\u001b[0m\u001b[0mdropna\u001b[0m\u001b[0;34m(\u001b[0m\u001b[0msubset\u001b[0m\u001b[0;34m=\u001b[0m\u001b[0;34m[\u001b[0m\u001b[0;34m\"date_added\"\u001b[0m\u001b[0;34m,\u001b[0m \u001b[0;34m\"rating\"\u001b[0m\u001b[0;34m]\u001b[0m\u001b[0;34m,\u001b[0m \u001b[0minplace\u001b[0m\u001b[0;34m=\u001b[0m\u001b[0;32mTrue\u001b[0m\u001b[0;34m)\u001b[0m\u001b[0;34m\u001b[0m\u001b[0;34m\u001b[0m\u001b[0m\n",
            "\u001b[0;32m/usr/local/lib/python3.7/dist-packages/pandas/core/generic.py\u001b[0m in \u001b[0;36m__getattr__\u001b[0;34m(self, name)\u001b[0m\n\u001b[1;32m   5485\u001b[0m         ):\n\u001b[1;32m   5486\u001b[0m             \u001b[0;32mreturn\u001b[0m \u001b[0mself\u001b[0m\u001b[0;34m[\u001b[0m\u001b[0mname\u001b[0m\u001b[0;34m]\u001b[0m\u001b[0;34m\u001b[0m\u001b[0;34m\u001b[0m\u001b[0m\n\u001b[0;32m-> 5487\u001b[0;31m         \u001b[0;32mreturn\u001b[0m \u001b[0mobject\u001b[0m\u001b[0;34m.\u001b[0m\u001b[0m__getattribute__\u001b[0m\u001b[0;34m(\u001b[0m\u001b[0mself\u001b[0m\u001b[0;34m,\u001b[0m \u001b[0mname\u001b[0m\u001b[0;34m)\u001b[0m\u001b[0;34m\u001b[0m\u001b[0;34m\u001b[0m\u001b[0m\n\u001b[0m\u001b[1;32m   5488\u001b[0m \u001b[0;34m\u001b[0m\u001b[0m\n\u001b[1;32m   5489\u001b[0m     \u001b[0;32mdef\u001b[0m \u001b[0m__setattr__\u001b[0m\u001b[0;34m(\u001b[0m\u001b[0mself\u001b[0m\u001b[0;34m,\u001b[0m \u001b[0mname\u001b[0m\u001b[0;34m:\u001b[0m \u001b[0mstr\u001b[0m\u001b[0;34m,\u001b[0m \u001b[0mvalue\u001b[0m\u001b[0;34m)\u001b[0m \u001b[0;34m->\u001b[0m \u001b[0;32mNone\u001b[0m\u001b[0;34m:\u001b[0m\u001b[0;34m\u001b[0m\u001b[0;34m\u001b[0m\u001b[0m\n",
            "\u001b[0;31mAttributeError\u001b[0m: 'DataFrame' object has no attribute 'director'"
          ]
        }
      ]
    },
    {
      "cell_type": "markdown",
      "source": [
        "##Convert Date Time format"
      ],
      "metadata": {
        "id": "Cmz9tSy0Je9G"
      }
    },
    {
      "cell_type": "code",
      "source": [
        "df[\"date_added\"] = pd.to_datetime(df['date_added'])\n",
        "df['day_added'] = df['date_added'].dt.day\n",
        "df['year_added'] = df['date_added'].dt.year\n",
        "df['month_added']=df['date_added'].dt.month\n",
        "df['year_added'].astype(int);\n",
        "df['day_added'].astype(int);"
      ],
      "metadata": {
        "id": "QxmS2ximJh8e"
      },
      "execution_count": null,
      "outputs": []
    },
    {
      "cell_type": "markdown",
      "source": [
        "#Exploratory Data Analysis"
      ],
      "metadata": {
        "id": "d44LrA6fRWAu"
      }
    },
    {
      "cell_type": "markdown",
      "source": [
        "##Univarient Analysis"
      ],
      "metadata": {
        "id": "n4ei-4RsRrNW"
      }
    },
    {
      "cell_type": "markdown",
      "source": [
        ""
      ],
      "metadata": {
        "id": "aERurQliPgxJ"
      }
    },
    {
      "cell_type": "code",
      "source": [
        "# is show id is unique for every entry?\n",
        "data_copy[\"show_id\"].nunique()"
      ],
      "metadata": {
        "id": "kRCzzcIbPfba"
      },
      "execution_count": null,
      "outputs": []
    },
    {
      "cell_type": "markdown",
      "source": [
        "Show_id is unique for every observation"
      ],
      "metadata": {
        "id": "reexsU8wPkIz"
      }
    },
    {
      "cell_type": "markdown",
      "source": [
        "## Type: Movie and TV Shows"
      ],
      "metadata": {
        "id": "9U9UebLkR7Fu"
      }
    },
    {
      "cell_type": "code",
      "source": [
        "sns.countplot(netflix['type'])\n",
        "fig = plt.gcf()\n",
        "fig.set_size_inches(10,10)\n",
        "plt.title('Type')"
      ],
      "metadata": {
        "id": "FUVwO3DFRLIe"
      },
      "execution_count": null,
      "outputs": []
    },
    {
      "cell_type": "code",
      "source": [
        "labels = ['Movie', 'TV show']\n",
        "size = netflix['type'].value_counts()\n",
        "colors = plt.cm.Wistia(np.linspace(0, 1, 2))\n",
        "explode = [0, 0.1]\n",
        "plt.rcParams['figure.figsize'] = (9, 9)\n",
        "plt.pie(size,labels=labels, colors = colors, explode = explode, shadow = True, startangle = 90)\n",
        "plt.title('Distribution of Type', fontsize = 25)\n",
        "plt.legend()\n",
        "plt.show()"
      ],
      "metadata": {
        "id": "R70iz2lUSUj3"
      },
      "execution_count": null,
      "outputs": []
    },
    {
      "cell_type": "markdown",
      "source": [
        "## Director"
      ],
      "metadata": {
        "id": "FZdLDPSXS7Pf"
      }
    },
    {
      "cell_type": "code",
      "source": [
        "plt.subplots(figsize=(25,15))\n",
        "wordcloud = WordCloud(\n",
        "                          background_color='white',\n",
        "                          width=1920,\n",
        "                          height=1080\n",
        "                         ).generate(\" \".join(df.director))\n",
        "plt.imshow(wordcloud)\n",
        "plt.axis('off')\n",
        "plt.savefig('director.png')\n",
        "plt.show()"
      ],
      "metadata": {
        "id": "61XWuG8RS5dH"
      },
      "execution_count": null,
      "outputs": []
    },
    {
      "cell_type": "markdown",
      "source": [
        ""
      ],
      "metadata": {
        "id": "Q6IkNxJsS5Mg"
      }
    },
    {
      "cell_type": "code",
      "source": [
        "filtered_directors = df[df.director != 'No Director'].set_index('title').director.str.split(', ', expand=True).stack().reset_index(level=1, drop=True)\n",
        "plt.figure(figsize=(13,7))\n",
        "plt.title('Top 10 Director Based on The Number of Titles')\n",
        "sns.countplot(y = filtered_directors, order=filtered_directors.value_counts().index[:10], palette='Blues')\n",
        "plt.show()"
      ],
      "metadata": {
        "id": "RBVHJG_7SUgW"
      },
      "execution_count": null,
      "outputs": []
    },
    {
      "cell_type": "markdown",
      "source": [
        "## Cast"
      ],
      "metadata": {
        "id": "GEr5TrfKUzU2"
      }
    },
    {
      "cell_type": "code",
      "source": [
        "plt.subplots(figsize=(25,15))\n",
        "wordcloud = WordCloud(\n",
        "                          background_color='white',\n",
        "                          width=1920,\n",
        "                          height=1080\n",
        "                         ).generate(\" \".join(df.cast))\n",
        "plt.imshow(wordcloud)\n",
        "plt.axis('off')\n",
        "plt.savefig('cast.png')\n",
        "plt.show()"
      ],
      "metadata": {
        "id": "am-EXx7qSUYN"
      },
      "execution_count": null,
      "outputs": []
    },
    {
      "cell_type": "markdown",
      "source": [
        "### Top Actor on Netflix based on the number of titles"
      ],
      "metadata": {
        "id": "1SENRZXaWX0F"
      }
    },
    {
      "cell_type": "code",
      "source": [
        "filtered_cast_shows = df[df.cast != 'No Cast'].set_index('title').cast.str.split(',', expand=True).stack().reset_index(level=1, drop=True)\n",
        "plt.figure(figsize=(13,7))\n",
        "plt.title('Top 10 Actor TV Shows Based on The Number of Titles')\n",
        "sns.countplot(y = filtered_cast_shows, order=filtered_cast_shows.value_counts().index[:10], palette='pastel')\n",
        "plt.show()"
      ],
      "metadata": {
        "id": "55bXI9rsUpbe"
      },
      "execution_count": null,
      "outputs": []
    },
    {
      "cell_type": "code",
      "source": [
        "filtered_cast_movie = df[df.cast != 'No Cast'].set_index('title').cast.str.split(', ', expand=True).stack().reset_index(level=1, drop=True)\n",
        "plt.figure(figsize=(13,7))\n",
        "plt.title('Top 10 Actor Movies Based on The Number of Titles')\n",
        "sns.countplot(y = filtered_cast_movie, order=filtered_cast_movie.value_counts().index[:10], palette='pastel')\n",
        "plt.show()"
      ],
      "metadata": {
        "id": "cjwnQAiFWWL-"
      },
      "execution_count": null,
      "outputs": []
    },
    {
      "cell_type": "markdown",
      "source": [
        "## country"
      ],
      "metadata": {
        "id": "4cE6J1BDXlO1"
      }
    },
    {
      "cell_type": "code",
      "source": [
        "#Top 10 Countries in which movies and TV shows were addded\n",
        "df['country'].value_counts()[:10]"
      ],
      "metadata": {
        "id": "EBwf6J8_Xmpz"
      },
      "execution_count": null,
      "outputs": []
    },
    {
      "cell_type": "code",
      "source": [
        "fig = plt.figure(figsize=(12,6))\n",
        "sns.countplot(data = df,y = 'country', order = df[\"country\"].value_counts().index[:10],hue = 'type',palette = 'magma_r')\n",
        "plt.title(\"Top countries having most content\")\n",
        "plt.show()"
      ],
      "metadata": {
        "id": "kwHv8AoNYlBU"
      },
      "execution_count": null,
      "outputs": []
    },
    {
      "cell_type": "code",
      "source": [
        "df.head()"
      ],
      "metadata": {
        "id": "eEwpMv1qY7Gn"
      },
      "execution_count": null,
      "outputs": []
    },
    {
      "cell_type": "markdown",
      "source": [
        "##release_year"
      ],
      "metadata": {
        "id": "bNwKQbcmZOpM"
      }
    },
    {
      "cell_type": "markdown",
      "source": [
        "###COlioums 7: date_added : Date it was added on Netflix\n",
        "\n",
        "As we converted date added to year added and month added."
      ],
      "metadata": {
        "id": "q0IAQ1nxL8Yt"
      }
    },
    {
      "cell_type": "code",
      "source": [
        "df[\"year_added\"].value_counts()"
      ],
      "metadata": {
        "id": "IifEzI3SY9TT"
      },
      "execution_count": null,
      "outputs": []
    },
    {
      "cell_type": "code",
      "source": [
        "sns.countplot(x=\"year_added\", data=df)\n",
        "plt.title(\"Number of movie/show added on year\")\n",
        "plt.xlabel(\"Year\")\n",
        "plt.ylabel(\"Count\")\n",
        "plt.show()"
      ],
      "metadata": {
        "id": "30mvZP4VMGWw"
      },
      "execution_count": null,
      "outputs": []
    },
    {
      "cell_type": "code",
      "source": [
        "sns.countplot(x=\"month_added\", data=df)\n",
        "plt.title(\"Number of movie/show added on month\")\n",
        "plt.xlabel(\"Months\")\n",
        "plt.xticks(rotation =45)\n",
        "plt.show()"
      ],
      "metadata": {
        "id": "9xYPTayvQU_M"
      },
      "execution_count": null,
      "outputs": []
    },
    {
      "cell_type": "code",
      "source": [
        ""
      ],
      "metadata": {
        "id": "cB1B1h6TQ4ep"
      },
      "execution_count": null,
      "outputs": []
    }
  ]
}